{
 "cells": [
  {
   "cell_type": "markdown",
   "metadata": {},
   "source": [
    "# Projeto individualdo módulo 4\n",
    "## de Rafael César"
   ]
  },
  {
   "cell_type": "markdown",
   "metadata": {},
   "source": [
    "### Primeiro passo: Criar a base de dados"
   ]
  },
  {
   "cell_type": "markdown",
   "metadata": {},
   "source": [
    "Nós vamos começar criando o nosso DataFrame, que vai ser a nossa base de dados para este projeto.\n",
    "\n",
    "Para isso vamos Importar o Pandas e o Numbpy que são duas bibliotecas do python\n",
    "\n",
    "1. O Pandas serve para a manipulação de dados comopor exemplo de Series e DataFrames\n",
    "\n",
    "2. O Numpy serve para operações matemáticas e lógicas e auxilia o Pandas, já que o Pandas foi criado usando o Numpy de base."
   ]
  },
  {
   "cell_type": "markdown",
   "metadata": {},
   "source": [
    "- Para usar essas bibliotecas temos que instala-las usando os comandos.\n",
    "\n",
    "        !pip install "
   ]
  },
  {
   "cell_type": "code",
   "execution_count": 32,
   "metadata": {},
   "outputs": [
    {
     "name": "stdout",
     "output_type": "stream",
     "text": [
      "Requirement already satisfied: numpy in c:\\users\\user\\appdata\\local\\programs\\python\\python311\\lib\\site-packages (1.25.1)\n"
     ]
    },
    {
     "name": "stderr",
     "output_type": "stream",
     "text": [
      "\n",
      "[notice] A new release of pip available: 22.3.1 -> 23.2.1\n",
      "[notice] To update, run: python.exe -m pip install --upgrade pip\n"
     ]
    },
    {
     "name": "stdout",
     "output_type": "stream",
     "text": [
      "Requirement already satisfied: pandas in c:\\users\\user\\appdata\\local\\programs\\python\\python311\\lib\\site-packages (2.0.3)\n",
      "Requirement already satisfied: python-dateutil>=2.8.2 in c:\\users\\user\\appdata\\roaming\\python\\python311\\site-packages (from pandas) (2.8.2)\n",
      "Requirement already satisfied: pytz>=2020.1 in c:\\users\\user\\appdata\\local\\programs\\python\\python311\\lib\\site-packages (from pandas) (2023.3)\n",
      "Requirement already satisfied: tzdata>=2022.1 in c:\\users\\user\\appdata\\local\\programs\\python\\python311\\lib\\site-packages (from pandas) (2023.3)\n",
      "Requirement already satisfied: numpy>=1.21.0 in c:\\users\\user\\appdata\\local\\programs\\python\\python311\\lib\\site-packages (from pandas) (1.25.1)\n",
      "Requirement already satisfied: six>=1.5 in c:\\users\\user\\appdata\\roaming\\python\\python311\\site-packages (from python-dateutil>=2.8.2->pandas) (1.16.0)\n"
     ]
    },
    {
     "name": "stderr",
     "output_type": "stream",
     "text": [
      "\n",
      "[notice] A new release of pip available: 22.3.1 -> 23.2.1\n",
      "[notice] To update, run: python.exe -m pip install --upgrade pip\n"
     ]
    }
   ],
   "source": [
    "!pip install numpy\n",
    "!pip install pandas"
   ]
  },
  {
   "cell_type": "markdown",
   "metadata": {},
   "source": [
    "Após a intalação temos que importar essa bibliotecas"
   ]
  },
  {
   "cell_type": "code",
   "execution_count": 33,
   "metadata": {},
   "outputs": [],
   "source": [
    "import numpy as np\n",
    "import pandas as pd"
   ]
  },
  {
   "cell_type": "markdown",
   "metadata": {},
   "source": [
    "Em seguida vamos criar essa tabela\n",
    "\n",
    "![tabela](tabela_print.png)"
   ]
  },
  {
   "cell_type": "code",
   "execution_count": 34,
   "metadata": {},
   "outputs": [],
   "source": [
    "# Criamos um array com os dados.\n",
    "tabela_dados = np.array([('Segunda', 6, 3, 5), ('Terça', 7, 2, 4), ('Quarta', 8, 1, 6), ('Quinta', 6, 4, 4), ('Sexta', 7, 3, 5), ('Sábado', 5, 2, 3), ('Domingo', 4,1,2)])\n",
    "# Transformamos esse array em um DataFrame e nomenado corretamente as colunas.\n",
    "data = pd.DataFrame(tabela_dados, columns = ['Dia', 'Horas Trabalhadas', 'Bugs Corrigidos', 'Tarefas Concluídas'])"
   ]
  },
  {
   "cell_type": "code",
   "execution_count": 35,
   "metadata": {},
   "outputs": [
    {
     "data": {
      "text/html": [
       "<div>\n",
       "<style scoped>\n",
       "    .dataframe tbody tr th:only-of-type {\n",
       "        vertical-align: middle;\n",
       "    }\n",
       "\n",
       "    .dataframe tbody tr th {\n",
       "        vertical-align: top;\n",
       "    }\n",
       "\n",
       "    .dataframe thead th {\n",
       "        text-align: right;\n",
       "    }\n",
       "</style>\n",
       "<table border=\"1\" class=\"dataframe\">\n",
       "  <thead>\n",
       "    <tr style=\"text-align: right;\">\n",
       "      <th></th>\n",
       "      <th>Dia</th>\n",
       "      <th>Horas Trabalhadas</th>\n",
       "      <th>Bugs Corrigidos</th>\n",
       "      <th>Tarefas Concluídas</th>\n",
       "    </tr>\n",
       "  </thead>\n",
       "  <tbody>\n",
       "    <tr>\n",
       "      <th>0</th>\n",
       "      <td>Segunda</td>\n",
       "      <td>6</td>\n",
       "      <td>3</td>\n",
       "      <td>5</td>\n",
       "    </tr>\n",
       "    <tr>\n",
       "      <th>1</th>\n",
       "      <td>Terça</td>\n",
       "      <td>7</td>\n",
       "      <td>2</td>\n",
       "      <td>4</td>\n",
       "    </tr>\n",
       "    <tr>\n",
       "      <th>2</th>\n",
       "      <td>Quarta</td>\n",
       "      <td>8</td>\n",
       "      <td>1</td>\n",
       "      <td>6</td>\n",
       "    </tr>\n",
       "    <tr>\n",
       "      <th>3</th>\n",
       "      <td>Quinta</td>\n",
       "      <td>6</td>\n",
       "      <td>4</td>\n",
       "      <td>4</td>\n",
       "    </tr>\n",
       "    <tr>\n",
       "      <th>4</th>\n",
       "      <td>Sexta</td>\n",
       "      <td>7</td>\n",
       "      <td>3</td>\n",
       "      <td>5</td>\n",
       "    </tr>\n",
       "    <tr>\n",
       "      <th>5</th>\n",
       "      <td>Sábado</td>\n",
       "      <td>5</td>\n",
       "      <td>2</td>\n",
       "      <td>3</td>\n",
       "    </tr>\n",
       "    <tr>\n",
       "      <th>6</th>\n",
       "      <td>Domingo</td>\n",
       "      <td>4</td>\n",
       "      <td>1</td>\n",
       "      <td>2</td>\n",
       "    </tr>\n",
       "  </tbody>\n",
       "</table>\n",
       "</div>"
      ],
      "text/plain": [
       "       Dia  Horas Trabalhadas  Bugs Corrigidos  Tarefas Concluídas\n",
       "0  Segunda                  6                3                   5\n",
       "1    Terça                  7                2                   4\n",
       "2   Quarta                  8                1                   6\n",
       "3   Quinta                  6                4                   4\n",
       "4    Sexta                  7                3                   5\n",
       "5   Sábado                  5                2                   3\n",
       "6  Domingo                  4                1                   2"
      ]
     },
     "execution_count": 35,
     "metadata": {},
     "output_type": "execute_result"
    }
   ],
   "source": [
    "# Corrigimos as Colunas para ter o formato correto de dados\n",
    "data = data.astype({'Horas Trabalhadas': 'int', 'Bugs Corrigidos': 'int', 'Tarefas Concluídas':'int'})\n",
    "# Vizualizamos o DataFrame\n",
    "data"
   ]
  },
  {
   "cell_type": "markdown",
   "metadata": {},
   "source": [
    "Agora com o Dataframe criado, vamos criar o relatório."
   ]
  },
  {
   "cell_type": "markdown",
   "metadata": {},
   "source": [
    "### Segundo Passo: Gerar o relatório."
   ]
  },
  {
   "cell_type": "markdown",
   "metadata": {},
   "source": [
    "Para gerar o relatório devemos calcular as seguintes estatísticas: \n",
    "1. Total de Horas Trabalhadas\n",
    "2. Média Diária de Horas Trabalhadas\n",
    "3. Total de Bugs Corrigidos\n",
    "4. Média Diária de Bugs Corrigidos\n",
    "5. Total de Tarefas Concluídas\n",
    "6. Média Diária de Tarefas Concluídas\n",
    "7. Produtividade Diária (Tarefas Concluídas por Hora)"
   ]
  },
  {
   "cell_type": "markdown",
   "metadata": {},
   "source": [
    "1. Total de horas trabalhadas:"
   ]
  },
  {
   "cell_type": "code",
   "execution_count": 36,
   "metadata": {},
   "outputs": [
    {
     "data": {
      "text/plain": [
       "43"
      ]
     },
     "execution_count": 36,
     "metadata": {},
     "output_type": "execute_result"
    }
   ],
   "source": [
    "total_horas_trabalhadas = data['Horas Trabalhadas'].sum()\n",
    "total_horas_trabalhadas"
   ]
  },
  {
   "cell_type": "markdown",
   "metadata": {},
   "source": [
    "        Temos um total de 43 horas trabalhadas na semana.\n",
    "\n",
    "Isso nos faz ter uma noção da quantidade de trabalho está sendo realizada em uma semana. podendo por exemplo gerar uma base para um gráfico Burndown"
   ]
  },
  {
   "cell_type": "markdown",
   "metadata": {},
   "source": [
    "2. Média diária de horas trabalhadas"
   ]
  },
  {
   "cell_type": "code",
   "execution_count": 37,
   "metadata": {},
   "outputs": [
    {
     "data": {
      "text/plain": [
       "6.142857142857143"
      ]
     },
     "execution_count": 37,
     "metadata": {},
     "output_type": "execute_result"
    }
   ],
   "source": [
    "media_horas_trabalhadas = data['Horas Trabalhadas'].mean()\n",
    "media_horas_trabalhadas"
   ]
  },
  {
   "cell_type": "markdown",
   "metadata": {},
   "source": [
    "        Temos uma média de 6.14 de Horas trabalhadas por dia.\n",
    "A média de horas trabalhadas pode ser usada para saber quais são os dias que mais rendem ao compara-los com a média por exemplo,"
   ]
  },
  {
   "cell_type": "markdown",
   "metadata": {},
   "source": [
    "3. Total de bugs corrigidos"
   ]
  },
  {
   "cell_type": "code",
   "execution_count": 38,
   "metadata": {},
   "outputs": [
    {
     "data": {
      "text/plain": [
       "16"
      ]
     },
     "execution_count": 38,
     "metadata": {},
     "output_type": "execute_result"
    }
   ],
   "source": [
    "total_bugs_corrigidos = data['Bugs Corrigidos'].sum()\n",
    "total_bugs_corrigidos"
   ]
  },
  {
   "cell_type": "markdown",
   "metadata": {},
   "source": [
    "        Foi resolvido um total de 16 bugs nessa semana.\n",
    "O total de Bugs corrigidos pode nos indicar também a quantidade de bugs que o processo está gerando."
   ]
  },
  {
   "cell_type": "markdown",
   "metadata": {},
   "source": [
    "4. Média diária de bugs corrigidos"
   ]
  },
  {
   "cell_type": "code",
   "execution_count": 39,
   "metadata": {},
   "outputs": [
    {
     "data": {
      "text/plain": [
       "2.2857142857142856"
      ]
     },
     "execution_count": 39,
     "metadata": {},
     "output_type": "execute_result"
    }
   ],
   "source": [
    "media_bugs_corrigidos = data['Bugs Corrigidos'].mean()\n",
    "media_bugs_corrigidos"
   ]
  },
  {
   "cell_type": "markdown",
   "metadata": {},
   "source": [
    "        A média de bugs resolvida por dia é cerca de 2.28."
   ]
  },
  {
   "cell_type": "markdown",
   "metadata": {},
   "source": [
    "5. Total de tarefas concluídas"
   ]
  },
  {
   "cell_type": "code",
   "execution_count": 40,
   "metadata": {},
   "outputs": [
    {
     "data": {
      "text/plain": [
       "29"
      ]
     },
     "execution_count": 40,
     "metadata": {},
     "output_type": "execute_result"
    }
   ],
   "source": [
    "total_tarefas_concluidas = data['Tarefas Concluídas'].sum()\n",
    "total_tarefas_concluidas"
   ]
  },
  {
   "cell_type": "markdown",
   "metadata": {},
   "source": [
    "        Temos um total de 29 tarefas concluidas dentro da semana."
   ]
  },
  {
   "cell_type": "markdown",
   "metadata": {},
   "source": [
    "6. Média diária de tarefas concluídas"
   ]
  },
  {
   "cell_type": "code",
   "execution_count": 41,
   "metadata": {},
   "outputs": [
    {
     "data": {
      "text/plain": [
       "4.142857142857143"
      ]
     },
     "execution_count": 41,
     "metadata": {},
     "output_type": "execute_result"
    }
   ],
   "source": [
    "media_tarefas_concluidas = data['Tarefas Concluídas'].mean()\n",
    "media_tarefas_concluidas"
   ]
  },
  {
   "cell_type": "markdown",
   "metadata": {},
   "source": [
    "        E a média diária de tarefas feitas pela equipe foi 4.14."
   ]
  },
  {
   "cell_type": "markdown",
   "metadata": {},
   "source": [
    "7. Produtividade diária (Tarefas concluidas por hora)"
   ]
  },
  {
   "cell_type": "code",
   "execution_count": 42,
   "metadata": {},
   "outputs": [
    {
     "data": {
      "text/plain": [
       "0.6744186046511628"
      ]
     },
     "execution_count": 42,
     "metadata": {},
     "output_type": "execute_result"
    }
   ],
   "source": [
    "produtividade = total_tarefas_concluidas / total_horas_trabalhadas\n",
    "produtividade"
   ]
  },
  {
   "cell_type": "markdown",
   "metadata": {},
   "source": [
    "        A produtividade (tarefas por hora) alcançou a marca de 0.67 ou seja uma tarefa concluida a cada 1.48 horas"
   ]
  },
  {
   "cell_type": "markdown",
   "metadata": {},
   "source": [
    "### Terceiro passo: Tabela com os resultados do relatório."
   ]
  },
  {
   "cell_type": "code",
   "execution_count": 43,
   "metadata": {},
   "outputs": [
    {
     "data": {
      "text/html": [
       "<div>\n",
       "<style scoped>\n",
       "    .dataframe tbody tr th:only-of-type {\n",
       "        vertical-align: middle;\n",
       "    }\n",
       "\n",
       "    .dataframe tbody tr th {\n",
       "        vertical-align: top;\n",
       "    }\n",
       "\n",
       "    .dataframe thead th {\n",
       "        text-align: right;\n",
       "    }\n",
       "</style>\n",
       "<table border=\"1\" class=\"dataframe\">\n",
       "  <thead>\n",
       "    <tr style=\"text-align: right;\">\n",
       "      <th></th>\n",
       "      <th>Dados</th>\n",
       "      <th>Total da semana</th>\n",
       "      <th>Média diária</th>\n",
       "    </tr>\n",
       "  </thead>\n",
       "  <tbody>\n",
       "    <tr>\n",
       "      <th>0</th>\n",
       "      <td>Horas Trabalhadas</td>\n",
       "      <td>43</td>\n",
       "      <td>6.142857</td>\n",
       "    </tr>\n",
       "    <tr>\n",
       "      <th>1</th>\n",
       "      <td>Bugs Resolvidos</td>\n",
       "      <td>16</td>\n",
       "      <td>2.285714</td>\n",
       "    </tr>\n",
       "    <tr>\n",
       "      <th>2</th>\n",
       "      <td>Tarefas Concluídas</td>\n",
       "      <td>29</td>\n",
       "      <td>4.142857</td>\n",
       "    </tr>\n",
       "  </tbody>\n",
       "</table>\n",
       "</div>"
      ],
      "text/plain": [
       "                Dados  Total da semana  Média diária\n",
       "0   Horas Trabalhadas               43      6.142857\n",
       "1     Bugs Resolvidos               16      2.285714\n",
       "2  Tarefas Concluídas               29      4.142857"
      ]
     },
     "execution_count": 43,
     "metadata": {},
     "output_type": "execute_result"
    }
   ],
   "source": [
    "tabela_relatorio = {'Dados' : ['Horas Trabalhadas', 'Bugs Resolvidos', 'Tarefas Concluídas'],\n",
    "         'Total da semana': [total_horas_trabalhadas,total_bugs_corrigidos, total_tarefas_concluidas],\n",
    "         'Média diária': [media_horas_trabalhadas, media_bugs_corrigidos, media_tarefas_concluidas]}\n",
    "data2 = pd.DataFrame(tabela_relatorio)\n",
    "data2"
   ]
  },
  {
   "cell_type": "markdown",
   "metadata": {},
   "source": [
    "### Quarto passo: exportar pro power BI"
   ]
  },
  {
   "cell_type": "code",
   "execution_count": 44,
   "metadata": {},
   "outputs": [],
   "source": [
    "data.to_csv('../PowerBI/tabela.csv')"
   ]
  },
  {
   "cell_type": "markdown",
   "metadata": {},
   "source": [
    "![powerBI](powerBI.png)\n",
    "Gráfico de série temporal com Horas Trabalhadas, Tarefas Concluídas e Bugs Resolvidos."
   ]
  },
  {
   "cell_type": "markdown",
   "metadata": {},
   "source": []
  }
 ],
 "metadata": {
  "kernelspec": {
   "display_name": "Python 3",
   "language": "python",
   "name": "python3"
  },
  "language_info": {
   "codemirror_mode": {
    "name": "ipython",
    "version": 3
   },
   "file_extension": ".py",
   "mimetype": "text/x-python",
   "name": "python",
   "nbconvert_exporter": "python",
   "pygments_lexer": "ipython3",
   "version": "3.11.3"
  },
  "orig_nbformat": 4
 },
 "nbformat": 4,
 "nbformat_minor": 2
}
